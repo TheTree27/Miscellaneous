{
 "cells": [
  {
   "cell_type": "markdown",
   "id": "e2107a68",
   "metadata": {},
   "source": [
    "**Testing Hash Class H for values U to see if the class is universal**"
   ]
  },
  {
   "cell_type": "code",
   "execution_count": 5,
   "id": "14323c52",
   "metadata": {},
   "outputs": [
    {
     "name": "stdout",
     "output_type": "stream",
     "text": [
      "[3, 9, 10, 13, 5, 15, 11, 0, 14, 8, 7, 4, 12, 2, 6, 1]\n",
      "[3, 9, 10, 13, 5, 15, 11, 0, 14, 8, 7, 4, 12, 2, 6, 1, 3]\n",
      "True\n",
      "False\n"
     ]
    }
   ],
   "source": [
    "x1 = 15 #upper limit U1\n",
    "x2 = 16 #upper limit U2\n",
    "H1 = []\n",
    "H2 = []\n",
    "U1 = [0,1,2,3,4,5,6,7,8,9,10,11,12,13,14,15]\n",
    "U2 = [0,1,2,3,4,5,6,7,8,9,10,11,12,13,14,15,16]\n",
    "for x in range(x1 + 1):\n",
    "    a = 1   \n",
    "    H1.append(pow(3,x+a,17) % 16)\n",
    "    a += 1\n",
    "    \n",
    "for x in range(x2 + 1):\n",
    "    a = 1   \n",
    "    H2.append(pow(3,x+a,17) % 16)\n",
    "    if a <= 16:\n",
    "        a += 1\n",
    "       \n",
    "print(H1)\n",
    "print(H2)\n",
    "\n",
    "# H is universal for U if check(H,U) returns True\n",
    "def check(H,U):\n",
    "    for value in H:\n",
    "        if value not in U: return False\n",
    "    if len(H) != len(set(H)): return False\n",
    "    return True\n",
    "\n",
    "print(check(H1,U1))\n",
    "print(check(H2,U2))"
   ]
  }
 ],
 "metadata": {
  "kernelspec": {
   "display_name": "Python 3 (ipykernel)",
   "language": "python",
   "name": "python3"
  },
  "language_info": {
   "codemirror_mode": {
    "name": "ipython",
    "version": 3
   },
   "file_extension": ".py",
   "mimetype": "text/x-python",
   "name": "python",
   "nbconvert_exporter": "python",
   "pygments_lexer": "ipython3",
   "version": "3.10.8"
  }
 },
 "nbformat": 4,
 "nbformat_minor": 5
}
